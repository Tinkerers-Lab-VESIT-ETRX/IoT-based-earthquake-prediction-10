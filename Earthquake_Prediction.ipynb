{
  "nbformat": 4,
  "nbformat_minor": 0,
  "metadata": {
    "colab": {
      "name": "Earthquake_Prediction.ipynb",
      "provenance": [],
      "collapsed_sections": [],
      "authorship_tag": "ABX9TyN7wCkb4SAf/cvnUuI9GMqq",
      "include_colab_link": true
    },
    "kernelspec": {
      "name": "python3",
      "display_name": "Python 3"
    },
    "language_info": {
      "name": "python"
    }
  },
  "cells": [
    {
      "cell_type": "markdown",
      "metadata": {
        "id": "view-in-github",
        "colab_type": "text"
      },
      "source": [
        "<a href=\"https://colab.research.google.com/github/Tinkerers-Lab-VESIT-ETRX/IoT-based-earthquake-prediction-10/blob/main/Earthquake_Prediction.ipynb\" target=\"_parent\"><img src=\"https://colab.research.google.com/assets/colab-badge.svg\" alt=\"Open In Colab\"/></a>"
      ]
    },
    {
      "cell_type": "code",
      "metadata": {
        "id": "9VLhR289AXyg"
      },
      "source": [
        "import numpy as np\n",
        "from sklearn.model_selection import train_test_split\n",
        "from sklearn.metrics import mean_absolute_error\n",
        "from sklearn.tree import DecisionTreeRegressor\n",
        "import pandas as pd\n"
      ],
      "execution_count": null,
      "outputs": []
    },
    {
      "cell_type": "code",
      "metadata": {
        "id": "Ty6iaxilxbXf"
      },
      "source": [
        "df = pd.read_csv(\"Seismometer_Data.csv\")\n",
        "ds = df.drop(columns=[\"event_time\",\"mts_id\",\"station\",\"timestamp\",\"label\"])\n",
        "\n",
        "\n",
        "X = ds[[\"event_latitude\", \"event_longitude\",\"event_depth\",\"station_latitude\",\"station_longitude\",\"dimension_E\",\"dimension_N\",\"dimension_Z\"]]\n",
        "y = ds[\"event_magnitude\"]\n",
        "\n",
        "X_train, X_test, y_train, y_test = train_test_split(X, y, test_size=0.7, random_state=1)"
      ],
      "execution_count": null,
      "outputs": []
    },
    {
      "cell_type": "code",
      "metadata": {
        "colab": {
          "base_uri": "https://localhost:8080/"
        },
        "id": "W_CFHHGBCOo5",
        "outputId": "03309805-77ca-4e18-e8f6-6820bdc88845"
      },
      "source": [
        "tree = DecisionTreeRegressor(random_state=1)\n",
        "tree.fit(X_train,y_train)\n",
        "mae = mean_absolute_error(y_test,tree.predict(X_test)) \n",
        "print(\"Mean Absolute Error: \",mae)"
      ],
      "execution_count": null,
      "outputs": [
        {
          "output_type": "stream",
          "text": [
            "Mean Absolute Error:  0.3558930660837824\n"
          ],
          "name": "stdout"
        }
      ]
    }
  ]
}